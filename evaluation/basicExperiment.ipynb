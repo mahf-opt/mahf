{
 "cells": [
  {
   "cell_type": "markdown",
   "id": "8c98dc88",
   "metadata": {},
   "source": [
    "# Basic problem-independent evaluation for whole experiment\n",
    "(whole experiment = several problems, several dimensions, optionally several algorithms)"
   ]
  },
  {
   "cell_type": "code",
   "execution_count": null,
   "id": "46e43db5",
   "metadata": {},
   "outputs": [],
   "source": [
    "import pandas as pd\n",
    "import numpy as np\n",
    "import matplotlib.pyplot as plt\n",
    "\n",
    "import eval"
   ]
  },
  {
   "cell_type": "markdown",
   "id": "f9d550b7",
   "metadata": {},
   "source": [
    "## Specify directory and data to analyse"
   ]
  },
  {
   "cell_type": "code",
   "execution_count": null,
   "id": "0d560c1d",
   "metadata": {},
   "outputs": [],
   "source": [
    "# This needs to be adapted to current data directory\n",
    "# directory should contain one layer of subdirectories\n",
    "directory = '../data/coco/iwo/'\n",
    "experiment_dict = eval.read_log_dir(directory)"
   ]
  },
  {
   "cell_type": "markdown",
   "id": "fe2c3a51",
   "metadata": {},
   "source": [
    "## Calculate statistics for runs"
   ]
  },
  {
   "cell_type": "markdown",
   "id": "f06a1cb5",
   "metadata": {},
   "source": [
    "### Iterations"
   ]
  },
  {
   "cell_type": "code",
   "execution_count": null,
   "id": "393040a1",
   "metadata": {},
   "outputs": [],
   "source": [
    "# calculates statistics based on best_fx\n",
    "stats_iter_dict = {}\n",
    "for key in experiment_dict:\n",
    "    if 'iteration' in key:\n",
    "        stats_iter_dict[key] = eval.basic_statistics(experiment_dict[key], 'iteration') \n",
    "stats_iter_dict"
   ]
  },
  {
   "cell_type": "markdown",
   "id": "d65f1432",
   "metadata": {},
   "source": [
    "### Evaluations"
   ]
  },
  {
   "cell_type": "code",
   "execution_count": null,
   "id": "6eb52ff7",
   "metadata": {},
   "outputs": [],
   "source": [
    "stats_eval_dict = {}\n",
    "for key in experiment_dict:\n",
    "    if 'evaluation' in key:\n",
    "        # evaluations are logged on improvement, thus evaluation numbers differ for every run. \n",
    "        # missing data needs to be filled first (with data from previous evaluation log) to properly calculate statistics\n",
    "        experiment_dict[key] = eval.add_missing_values(experiment_dict[key], 'evaluation')\n",
    "\n",
    "        # group best_fx for each evaluation number and calculate statistics\n",
    "        stats_eval_dict[key] = eval.basic_statistics(experiment_dict[key], 'evaluation')\n",
    "stats_eval_dict"
   ]
  },
  {
   "cell_type": "markdown",
   "id": "14fd6739",
   "metadata": {},
   "source": [
    "## Plotting"
   ]
  },
  {
   "cell_type": "markdown",
   "id": "9adde455",
   "metadata": {},
   "source": [
    "### Iterations"
   ]
  },
  {
   "cell_type": "code",
   "execution_count": null,
   "id": "70b1c68b",
   "metadata": {},
   "outputs": [],
   "source": [
    "for key in stats_iter_dict:\n",
    "    stats_iter_dict[key].plot(y=\"mean_opt\")\n",
    "    plt.title(key)"
   ]
  },
  {
   "cell_type": "markdown",
   "id": "bbb238a2",
   "metadata": {},
   "source": [
    "### Evaluations"
   ]
  },
  {
   "cell_type": "code",
   "execution_count": null,
   "id": "899b0b3c",
   "metadata": {},
   "outputs": [],
   "source": [
    "for key in stats_eval_dict:\n",
    "    stats_eval_dict[key].plot(y=\"mean_opt\")\n",
    "    plt.title(key)"
   ]
  },
  {
   "cell_type": "code",
   "execution_count": null,
   "id": "932e3208",
   "metadata": {},
   "outputs": [],
   "source": []
  }
 ],
 "metadata": {
  "kernelspec": {
   "display_name": "Python 3.10.2 ('sci-env')",
   "language": "python",
   "name": "python3"
  },
  "language_info": {
   "codemirror_mode": {
    "name": "ipython",
    "version": 3
   },
   "file_extension": ".py",
   "mimetype": "text/x-python",
   "name": "python",
   "nbconvert_exporter": "python",
   "pygments_lexer": "ipython3",
   "version": "3.10.4"
  },
  "vscode": {
   "interpreter": {
    "hash": "b1e4cb92c88531f91b442a4fa98d0649d51b9e921554dd557cc969802a1483de"
   }
  }
 },
 "nbformat": 4,
 "nbformat_minor": 5
}
