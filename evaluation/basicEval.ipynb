{
 "cells": [
  {
   "cell_type": "markdown",
   "id": "49dd7e7b",
   "metadata": {},
   "source": [
    "# Basic problem-independent evaluation"
   ]
  },
  {
   "cell_type": "code",
   "execution_count": null,
   "id": "aaadc87f",
   "metadata": {},
   "outputs": [],
   "source": [
    "import pandas as pd\n",
    "import numpy as np\n",
    "import matplotlib.pyplot as plt\n",
    "import seaborn as sns\n",
    "\n",
    "import eval"
   ]
  },
  {
   "cell_type": "markdown",
   "id": "2a2cb2cb",
   "metadata": {},
   "source": [
    "## Specify directory and data to analyse"
   ]
  },
  {
   "cell_type": "code",
   "execution_count": null,
   "id": "0f3f5829",
   "metadata": {},
   "outputs": [],
   "source": [
    "# This needs to be adapted to current data directory\n",
    "directory = '../data/coco/iwo/'\n",
    "all_logs = eval.read_log_dir(directory)"
   ]
  },
  {
   "cell_type": "code",
   "execution_count": null,
   "id": "e2c1ed74",
   "metadata": {},
   "outputs": [],
   "source": [
    "# print a data sample\n",
    "all_logs['bbob_f001_i01_d20.log'][:10]"
   ]
  },
  {
   "cell_type": "markdown",
   "id": "52836ec8",
   "metadata": {},
   "source": [
    "## Calculate statistics of runs"
   ]
  },
  {
   "cell_type": "markdown",
   "id": "78167e8b",
   "metadata": {},
   "source": [
    "### for iterations"
   ]
  },
  {
   "cell_type": "code",
   "execution_count": null,
   "id": "d2364030",
   "metadata": {},
   "outputs": [],
   "source": [
    "# calculates statistics based on best_fx\n",
    "stats_iter = eval.basic_statistics(iterations, 'iteration')\n",
    "stats_iter"
   ]
  },
  {
   "cell_type": "markdown",
   "id": "3ef562ba",
   "metadata": {},
   "source": [
    "### for evaluations"
   ]
  },
  {
   "cell_type": "code",
   "execution_count": null,
   "id": "6b45f2ee",
   "metadata": {
    "scrolled": false
   },
   "outputs": [],
   "source": [
    "# evaluations are logged on improvement, thus evaluation numbers differ for every run. \n",
    "# missing data needs to be filled first (with data from previous evaluation log) to properly calculate statistics\n",
    "filled_eval = eval.add_missing_values(evaluations, 'evaluation')\n",
    "\n",
    "# group best_fx for each evaluation number and calculate statistics\n",
    "stats_eval = eval.basic_statistics(filled_eval, 'evaluation')\n",
    "stats_eval\n"
   ]
  },
  {
   "cell_type": "markdown",
   "id": "489692b7",
   "metadata": {},
   "source": [
    "## Plotting"
   ]
  },
  {
   "cell_type": "code",
   "execution_count": null,
   "id": "7e21fc5a",
   "metadata": {},
   "outputs": [],
   "source": [
    "sns.set()\n",
    "sns.violinplot(y=summary.best)"
   ]
  },
  {
   "cell_type": "code",
   "execution_count": null,
   "id": "7b5c320a",
   "metadata": {},
   "outputs": [],
   "source": [
    "sns.boxplot(y=summary.best)"
   ]
  },
  {
   "cell_type": "markdown",
   "id": "9b0f11d1",
   "metadata": {},
   "source": [
    "### Iterations"
   ]
  },
  {
   "cell_type": "code",
   "execution_count": null,
   "id": "890afdb2",
   "metadata": {},
   "outputs": [],
   "source": [
    "stats_iter.plot(y=\"mean_opt\")"
   ]
  },
  {
   "cell_type": "markdown",
   "id": "73492c08",
   "metadata": {},
   "source": [
    "### Evaluations"
   ]
  },
  {
   "cell_type": "code",
   "execution_count": null,
   "id": "8f1a52a9",
   "metadata": {},
   "outputs": [],
   "source": [
    "stats_eval.plot(y=\"mean_opt\")"
   ]
  },
  {
   "cell_type": "markdown",
   "id": "e28d2761",
   "metadata": {},
   "source": [
    "# Population Diversity"
   ]
  },
  {
   "cell_type": "code",
   "execution_count": null,
   "id": "e4455cb2",
   "metadata": {},
   "outputs": [],
   "source": [
    "stats_diversity_iter = eval.diversity_statistics(iterations, 'iteration')\n",
    "stats_diversity_iter"
   ]
  },
  {
   "cell_type": "code",
   "execution_count": null,
   "id": "cc41d63a",
   "metadata": {},
   "outputs": [],
   "source": [
    "stats_diversity_eval = eval.diversity_statistics(iterations, 'evaluation')\n",
    "stats_diversity_eval"
   ]
  },
  {
   "cell_type": "code",
   "execution_count": null,
   "id": "19a865c4",
   "metadata": {},
   "outputs": [],
   "source": [
    "ax1 = stats_diversity_iter.plot(y='mean_div', legend=False, color=\"r\")\n",
    "ax2=ax1.twinx()\n",
    "stats_iter.plot(y='mean_opt', ax=ax2, legend=False)"
   ]
  },
  {
   "cell_type": "code",
   "execution_count": null,
   "id": "70ddf6cc",
   "metadata": {},
   "outputs": [],
   "source": [
    "ax1 = stats_diversity_eval.plot(y='mean_div', legend=False, color=\"r\")\n",
    "ax2=ax1.twinx()\n",
    "stats_eval.plot(y='mean_opt', ax=ax2, legend=False)"
   ]
  },
  {
   "cell_type": "markdown",
   "id": "3ffc8fc7",
   "metadata": {},
   "source": [
    "# Population"
   ]
  },
  {
   "cell_type": "code",
   "execution_count": null,
   "id": "10aa99ca",
   "metadata": {},
   "outputs": [],
   "source": [
    "# TODO: somehow show the distribution of (at least) the initial and the final population (see paper on structural bias)"
   ]
  }
 ],
 "metadata": {
  "kernelspec": {
   "display_name": "Python 3.10.2 ('sci-env')",
   "language": "python",
   "name": "python3"
  },
  "language_info": {
   "codemirror_mode": {
    "name": "ipython",
    "version": 3
   },
   "file_extension": ".py",
   "mimetype": "text/x-python",
   "name": "python",
   "nbconvert_exporter": "python",
   "pygments_lexer": "ipython3",
   "version": "3.10.5"
  },
  "vscode": {
   "interpreter": {
    "hash": "b1e4cb92c88531f91b442a4fa98d0649d51b9e921554dd557cc969802a1483de"
   }
  }
 },
 "nbformat": 4,
 "nbformat_minor": 5
}
